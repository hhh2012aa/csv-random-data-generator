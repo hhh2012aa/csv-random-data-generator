{
 "cells": [
  {
   "cell_type": "code",
   "execution_count": 137,
   "metadata": {},
   "outputs": [],
   "source": [
    "import random\n",
    "import string\n",
    "import csv\n",
    "import os\n",
    "import datetime"
   ]
  },
  {
   "cell_type": "code",
   "execution_count": 138,
   "metadata": {},
   "outputs": [],
   "source": [
    "def column_gnenrator(date_size, str_size, float_size):\n",
    "    all_c = []\n",
    "    for i in range(date_size):\n",
    "        all_c.append(\"date{0}\".format(i + 1))\n",
    "    for i in range(str_size):\n",
    "        all_c.append(\"str{0}\".format(i + 1))\n",
    "    for i in range(float_size):\n",
    "        all_c.append(\"float{0}\".format(i + 1))\n",
    "    return all_c\n",
    "\n",
    "def id_generator(size, chars = string.ascii_uppercase + string.digits):\n",
    "    return ''.join(random.choice(chars) for _ in range(size))\n",
    "\n",
    "def num_generator(size, chars = string.digits):\n",
    "    return ''.join(random.choice(chars) for _ in range(size))\n",
    "\n",
    "def float_generator():\n",
    "    return random.random()"
   ]
  },
  {
   "cell_type": "code",
   "execution_count": 139,
   "metadata": {},
   "outputs": [],
   "source": [
    "def file_generator(fname):\n",
    "    \n",
    "    with open(fname, 'w', newline='') as csvfile:\n",
    "\n",
    "        wr = csv.writer(csvfile, dialect='excel')\n",
    "        wr.writerow(column_gnenrator(1,3,3))\n",
    "\n",
    "        while os.path.getsize(fname) < 100000000:\n",
    "            for i in range(3):\n",
    "                dt_list = [datetime.datetime.strftime(datetime.datetime.now(), '%Y/%m/%d %H:%M:%S')]\n",
    "                str_list = [id_generator(5) for i in range(3)]\n",
    "                float_list = [float_generator() for i in range(3)]\n",
    "                all_list = dt_list + str_list + float_list\n",
    "                wr.writerow(all_list)\n"
   ]
  },
  {
   "cell_type": "code",
   "execution_count": 140,
   "metadata": {},
   "outputs": [],
   "source": [
    "def select_size(gb_sz):\n",
    "    num_file = gb_sz * 10\n",
    "    for i in range(num_file):\n",
    "        fname = \"random_data_{0}\".format(i)\n",
    "        file_generator(fname)"
   ]
  },
  {
   "cell_type": "code",
   "execution_count": 141,
   "metadata": {},
   "outputs": [],
   "source": [
    "select_size(1)"
   ]
  },
  {
   "cell_type": "code",
   "execution_count": null,
   "metadata": {},
   "outputs": [],
   "source": []
  }
 ],
 "metadata": {
  "kernelspec": {
   "display_name": "Python 3",
   "language": "python",
   "name": "python3"
  },
  "language_info": {
   "codemirror_mode": {
    "name": "ipython",
    "version": 3
   },
   "file_extension": ".py",
   "mimetype": "text/x-python",
   "name": "python",
   "nbconvert_exporter": "python",
   "pygments_lexer": "ipython3",
   "version": "3.7.5"
  }
 },
 "nbformat": 4,
 "nbformat_minor": 4
}
